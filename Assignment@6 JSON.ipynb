{
 "cells": [
  {
   "cell_type": "markdown",
   "id": "14aefdd2",
   "metadata": {},
   "source": [
    "### Create a JSON file (employee.json) containing employee information of minimum 5 employees. Each employee information consists of Name, DOB, Height, City, State. Write a python program that reads this information from the JSON file and saves the information into a list of objects of Employee class. Finally print the list of the Employee objects."
   ]
  },
  {
   "cell_type": "code",
   "execution_count": 54,
   "id": "9def61a1",
   "metadata": {},
   "outputs": [
    {
     "name": "stdout",
     "output_type": "stream",
     "text": [
      "file created\n"
     ]
    },
    {
     "data": {
      "text/plain": [
       "{'1': {'Name': 'Saritha',\n",
       "  'Dob': '11.2.96',\n",
       "  'Height': 5.6,\n",
       "  'City': 'Hyderabad',\n",
       "  'State': 'Telangana'},\n",
       " '2': {'Name': 'Ashvith',\n",
       "  'Dob': '23.4.98',\n",
       "  'Height': 5.5,\n",
       "  'City': 'Akola',\n",
       "  'State': 'Maharastra'},\n",
       " '3': {'Name': 'Prashant',\n",
       "  'Dob': '24.3.96',\n",
       "  'Height': 5.9,\n",
       "  'City': 'Banglore',\n",
       "  'State': 'Karnataka'},\n",
       " '4': {'Name': 'Pooja',\n",
       "  'Dob': '11.6.96',\n",
       "  'Height': 5.4,\n",
       "  'City': 'Mumbai',\n",
       "  'State': 'Maharastra'},\n",
       " '5': {'Name': 'Salman',\n",
       "  'Dob': '16.12.94',\n",
       "  'Height': 5.7,\n",
       "  'City': 'Chennai',\n",
       "  'state': 'Tamil Nadu'}}"
      ]
     },
     "execution_count": 54,
     "metadata": {},
     "output_type": "execute_result"
    }
   ],
   "source": [
    "import json\n",
    "employee={1:{\"Name\":\"Saritha\",\"Dob\":\"11.2.96\",\"Height\":5.6,\"City\":\"Hyderabad\",\"State\":\"Telangana\"},\n",
    "          2:{\"Name\":\"Ashvith\",\"Dob\":\"23.4.98\",\"Height\":5.5,\"City\":\"Akola\",\"State\":\"Maharastra\"},\n",
    "          3:{\"Name\":\"Prashant\",\"Dob\":\"24.3.96\",\"Height\":5.9,\"City\":\"Banglore\",\"State\":\"Karnataka\"},\n",
    "          4:{\"Name\":\"Pooja\",\"Dob\":\"11.6.96\",\"Height\":5.4,\"City\":\"Mumbai\",\"State\":\"Maharastra\"},\n",
    "          5:{\"Name\":\"Salman\",\"Dob\":\"16.12.94\",\"Height\":5.7,\"City\":\"Chennai\",\"state\":\"Tamil Nadu\"}}\n",
    "with open(\"details.json\",\"w\") as f:\n",
    "    json.dump(employee,f)\n",
    "print(\"file created\")\n",
    "with open(\"details.json\",\"r\") as f:\n",
    "    x=json.load(f)\n",
    "x"
   ]
  },
  {
   "cell_type": "markdown",
   "id": "e9cd484b",
   "metadata": {},
   "source": [
    "### Create a dictionary of any 7 Indian states and their capitals. Write this into a JSON file."
   ]
  },
  {
   "cell_type": "code",
   "execution_count": 14,
   "id": "2f9fc7ab",
   "metadata": {},
   "outputs": [
    {
     "name": "stdout",
     "output_type": "stream",
     "text": [
      "file created\n"
     ]
    },
    {
     "data": {
      "text/plain": [
       "{'1': {'Hyderabad': 'Telangana'},\n",
       " '2': {'Mumbai': 'Maharastra'},\n",
       " '3': {'Banglore': 'Karnataka'},\n",
       " '4': {'Chennai': 'Tamil Nadu'},\n",
       " '5': {'Lucknow': 'UttarPradesh'},\n",
       " '6': {'Goa': 'Panaji'},\n",
       " '7': {'Shimla': 'Himachal Pradesh'}}"
      ]
     },
     "execution_count": 14,
     "metadata": {},
     "output_type": "execute_result"
    }
   ],
   "source": [
    "import json\n",
    "States={1:{\"Hyderabad\":\"Telangana\"},2:{\"Mumbai\":\"Maharastra\"},3:{\"Banglore\":\"Karnataka\"},4:{\"Chennai\":\"Tamil Nadu\"},\n",
    "        5:{\"Lucknow\":\"UttarPradesh\"},6:{\"Goa\":\"Panaji\"},7:{\"Shimla\":\"Himachal Pradesh\"}}\n",
    "with open(\"Indian_States.json\",\"w\") as f:\n",
    "    json.dump(States,f)\n",
    "print(\"file created\")\n",
    "with open(\"Indian_States.json\",\"r\") as f:\n",
    "    x=json.load(f)\n",
    "x"
   ]
  },
  {
   "cell_type": "markdown",
   "id": "32cd1707",
   "metadata": {},
   "source": [
    "### Create a class named ‘Dog’. It should have a constructor which accepts its name, age and coat color. You must perform the following operations:\n",
    "\n",
    "🔴 a. It should have a function ‘description()’ which prints the name and age of the dog.\n",
    "🔴 b. It should have a function ‘get_info()’ which prints the coat color of the dog.\n",
    "🔴 c. Create child classes ‘JackRussellTerrier’ and ‘Bulldog’ which is inherited from the class ‘Dog’. It should have at least two methods of its own.\n",
    "🔴 d. Create objects and implement the above functionalities."
   ]
  },
  {
   "cell_type": "code",
   "execution_count": 48,
   "id": "49e22e87",
   "metadata": {},
   "outputs": [
    {
     "name": "stdout",
     "output_type": "stream",
     "text": [
      "Name of the dog is : joy\n",
      "Age of the dog is: 2\n",
      "Breed is Jack russell terrier\n",
      "It is a short dog\n",
      "Number of legs it has : 4\n",
      "coat color of the dog is: brown\n",
      "****************************************************************************************************\n",
      "Name of the dog is : Bruno\n",
      "Age of the dog is: 3\n",
      "Breed is Bulldog\n",
      "It is British breed\n",
      "Fur of the dog is: soft fur\n",
      "coat color of the dog is: Dark Brown\n"
     ]
    }
   ],
   "source": [
    "class Dog:\n",
    "    def __init__(self,name,age,coat_color):\n",
    "        self.name=name\n",
    "        self.age=age\n",
    "        self.coat_color=coat_color\n",
    "    def Description(self):\n",
    "        print(\"Name of the dog is :\",self.name)\n",
    "        print(\"Age of the dog is:\",self.age)\n",
    "    def get_coat_color(self):\n",
    "        print(\"coat color of the dog is:\",self.coat_color)\n",
    "    \n",
    "class JackRussellTerrier(Dog):\n",
    "    def __init__(self,name,age,coat_color,legs):\n",
    "        super().__init__(name,age,coat_color)\n",
    "        self.legs=legs\n",
    "    def Height(self):\n",
    "        print(\"Breed is Jack russell terrier\")\n",
    "        print(\"It is a short dog\")\n",
    "        print(\"Number of legs it has :\",self.legs)\n",
    "        \n",
    "class Bulldog(Dog):\n",
    "    def __init__(self,name,age,coat_color,fur):\n",
    "        super().__init__(name,age,coat_color)\n",
    "        self.fur=fur\n",
    "    def Breed(self):\n",
    "        print(\"Breed is Bulldog\")\n",
    "        print(\"It is British breed\")\n",
    "        print(\"Fur of the dog is:\",self.fur)\n",
    "        \n",
    "x=JackRussellTerrier(\"joy\",2,\"brown\",4)\n",
    "x.Description()\n",
    "x.Height()\n",
    "x.get_coat_color()\n",
    "print(\"*\"*100)\n",
    "y=Bulldog(\"Bruno\",3,\"Dark Brown\",\"soft fur\")\n",
    "y.Description()\n",
    "y.Breed()\n",
    "y.get_coat_color()"
   ]
  },
  {
   "cell_type": "code",
   "execution_count": null,
   "id": "ea3905d8",
   "metadata": {},
   "outputs": [],
   "source": []
  }
 ],
 "metadata": {
  "kernelspec": {
   "display_name": "Python 3 (ipykernel)",
   "language": "python",
   "name": "python3"
  },
  "language_info": {
   "codemirror_mode": {
    "name": "ipython",
    "version": 3
   },
   "file_extension": ".py",
   "mimetype": "text/x-python",
   "name": "python",
   "nbconvert_exporter": "python",
   "pygments_lexer": "ipython3",
   "version": "3.9.13"
  }
 },
 "nbformat": 4,
 "nbformat_minor": 5
}
